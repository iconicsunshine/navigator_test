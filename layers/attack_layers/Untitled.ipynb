{
 "cells": [
  {
   "cell_type": "code",
   "execution_count": 1,
   "metadata": {},
   "outputs": [
    {
     "name": "stderr",
     "output_type": "stream",
     "text": [
      "usage: ipykernel_launcher.py [-h] -i INPUT_FN\n",
      "ipykernel_launcher.py: error: the following arguments are required: -i/--input\n"
     ]
    },
    {
     "ename": "SystemExit",
     "evalue": "2",
     "output_type": "error",
     "traceback": [
      "An exception has occurred, use %tb to see the full traceback.\n",
      "\u001b[1;31mSystemExit\u001b[0m\u001b[1;31m:\u001b[0m 2\n"
     ]
    },
    {
     "name": "stderr",
     "output_type": "stream",
     "text": [
      "C:\\Users\\brgood\\AppData\\Local\\Continuum\\anaconda3\\lib\\site-packages\\IPython\\core\\interactiveshell.py:3334: UserWarning: To exit: use 'exit', 'quit', or Ctrl-D.\n",
      "  warn(\"To exit: use 'exit', 'quit', or Ctrl-D.\", stacklevel=1)\n"
     ]
    }
   ],
   "source": [
    "# attack_layers_simple.py - the \"hello, world\" for ATT&CK Navigator layer generation\n",
    "# Takes a simple CSV file containing ATT&CK technique IDs and counts of groups, software and articles/reports that reference this technique\n",
    "# and generates an ATT&CK Navigator layer file with techniques scored and color-coded based on an algorithm\n",
    "# This sample is intended to demonstrate generating layers from external data sources such as CSV files.\n",
    "\n",
    "import argparse\n",
    "import csv\n",
    "import json\n",
    "import sys\n",
    "\n",
    "# Static ATT&CK Navigator layer JSON fields\n",
    "VERSION = \"2.2\"\n",
    "NAME = \"example\"\n",
    "DESCRIPTION = \"hello, world\"\n",
    "DOMAIN = \"mitre-enterprise\"\n",
    "\n",
    "# Main\n",
    "def main():\n",
    "\n",
    "    # handle arguments\n",
    "    parser = argparse.ArgumentParser()\n",
    "    parser.add_argument(\"-i\", \"--input\", action=\"store\", dest=\"input_fn\", default=\"attack.csv\",\n",
    "                        required=True, help=\"input ATT&CK csv file with tactic ID, groups, software, etc... fields\")\n",
    "\n",
    "    args = parser.parse_args()\n",
    "\n",
    "    # Base ATT&CK Navigator layer\n",
    "    layer_json = {\n",
    "        \"version\": VERSION,\n",
    "        \"name\": NAME,\n",
    "        \"description\": DESCRIPTION,\n",
    "        \"domain\": DOMAIN,\n",
    "        \"techniques\": []\n",
    "    }\n",
    "\n",
    "    # parse csv file, calculating a score for each technique and adding that to the layer\n",
    "    with open(args.input_fn, \"rb\") as csvfile:\n",
    "        reader = csv.DictReader(csvfile, delimiter=\",\")\n",
    "        for row in reader:\n",
    "            # score each technique based on a simple formula\n",
    "            technique = {\n",
    "                \"techniqueID\": row[\"TechID\"],\n",
    "                \"score\": (int(row[\"Software\"]) + int(row[\"Groups\"]))*2 + int(row[\"References\"])\n",
    "            }\n",
    "\n",
    "            layer_json[\"techniques\"].append(technique)\n",
    "\n",
    "\n",
    "    # add a color gradient (white -> red) to layer\n",
    "    # ranging from zero (white) to the maximum score in the file (red)\n",
    "    layer_json[\"gradient\"] = {\n",
    "        \"colors\": [\n",
    "            \"#ffffff\",\n",
    "            \"#ff6666\"\n",
    "        ],\n",
    "        \"minValue\": 0,\n",
    "        \"maxValue\": max([technique[\"score\"] for technique in layer_json[\"techniques\"]])\n",
    "    }\n",
    "\n",
    "    # output JSON\n",
    "    json.dump(layer_json, sys.stdout, indent=4)\n",
    "\n",
    "\n",
    "if __name__ == \"__main__\":\n",
    "    main()\n"
   ]
  },
  {
   "cell_type": "code",
   "execution_count": null,
   "metadata": {},
   "outputs": [],
   "source": []
  }
 ],
 "metadata": {
  "kernelspec": {
   "display_name": "Python 3",
   "language": "python",
   "name": "python3"
  },
  "language_info": {
   "codemirror_mode": {
    "name": "ipython",
    "version": 3
   },
   "file_extension": ".py",
   "mimetype": "text/x-python",
   "name": "python",
   "nbconvert_exporter": "python",
   "pygments_lexer": "ipython3",
   "version": "3.7.4"
  }
 },
 "nbformat": 4,
 "nbformat_minor": 2
}
